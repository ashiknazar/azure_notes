{
 "cells": [
  {
   "cell_type": "markdown",
   "metadata": {},
   "source": [
    "- fundamental building block of private network in azure.\n",
    "- different resources inside azure communicate each other with this virtual network\n",
    "- scalability ,availability,isolation,security\n"
   ]
  },
  {
   "cell_type": "markdown",
   "metadata": {},
   "source": [
    "- a virtual network is created automatically when a virtual machine is created.\n",
    "- select the virtual network created\n",
    "   - Address space  - 10.1.1.0/24\n",
    "   - address range  - 10.1.1.0-10.1.1.255  Adress count - 256\n",
    "   - 5 reserved by azure 251 is available\n",
    "   - subnets\n",
    "     -  10.1.1.0/24(250 available)\n",
    "     "
   ]
  },
  {
   "cell_type": "markdown",
   "metadata": {},
   "source": []
  }
 ],
 "metadata": {
  "language_info": {
   "name": "python"
  }
 },
 "nbformat": 4,
 "nbformat_minor": 2
}
