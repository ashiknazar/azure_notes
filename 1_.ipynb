{
 "cells": [
  {
   "cell_type": "markdown",
   "metadata": {},
   "source": [
    "### azure"
   ]
  }
 ],
 "metadata": {
  "language_info": {
   "name": "python"
  }
 },
 "nbformat": 4,
 "nbformat_minor": 2
}
