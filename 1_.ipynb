{
 "cells": [
  {
   "cell_type": "markdown",
   "metadata": {},
   "source": [
    "### azure"
   ]
  },
  {
   "cell_type": "markdown",
   "metadata": {},
   "source": [
    "![Azure dashboard](images/az_dashb.png)\n",
    "![all services dashboard](images/all_services.png)"
   ]
  },
  {
   "cell_type": "markdown",
   "metadata": {},
   "source": [
    "___\n",
    "- <b>resourse groups</b>\n",
    "  -  ![Icon](images/res.png)\n",
    "  - service when used -> converted into resource \n",
    "  - logical grouping of resources ->resource group  \n",
    "  "
   ]
  },
  {
   "cell_type": "markdown",
   "metadata": {},
   "source": [
    "- add +\n",
    "- subscriptions : free trial\n",
    "- Resource group : name\n",
    "- Region : \n",
    "- ``Review + create ``"
   ]
  },
  {
   "cell_type": "markdown",
   "metadata": {},
   "source": [
    "___\n",
    "<b>subscriptions</b>\n",
    "- free trial\n",
    "- billing method\n",
    "- when we create a resource under a subscription it will become easy to understand billings\n",
    "- we can have multiple subscriptions.if we have multiple departments and resources using by each is placed under seperate subscription we can easly understand usage\n",
    "- add +\n",
    "___"
   ]
  },
  {
   "cell_type": "markdown",
   "metadata": {},
   "source": [
    "### windows virtual machine deployment"
   ]
  },
  {
   "cell_type": "markdown",
   "metadata": {},
   "source": [
    "- Compute -> Virtual machines -> ``+``\n",
    "  - Basics`|Disks|Networking|Management|Advanced|Tags|Review+create` \n",
    "      - Subscriptions:\n",
    "      - Resource group:\n",
    "      - Region:\n",
    "      - Availability options:\n",
    "      - image:\n",
    "      - Size:\n",
    "      \n",
    "___"
   ]
  },
  {
   "cell_type": "markdown",
   "metadata": {},
   "source": [
    "<b> but if we prefer free services go for </b>\n",
    "- search  -> free service -> it will list free services\n",
    "- select virtual machine from it and ->``create``\n",
    "- now only 3 tabs will appear `Basics|Tags|Review+create`\n"
   ]
  },
  {
   "cell_type": "markdown",
   "metadata": {},
   "source": [
    "- Basics\n",
    "   - Subscription:Free Trial\n",
    "   - Resource group: TestGroup\n",
    "   - Virtual machine name: windowsvm\n",
    "   - Region:free tire only support certain regions\n",
    "   - image:\n",
    "   - size:\n",
    "   - username:\n",
    "   - password:\n",
    "   - since it is a windows virtual machine we use remote desktop client present in windows machines to connect  else use a thirdparty utility\n",
    "   - ``Review+create``"
   ]
  },
  {
   "cell_type": "markdown",
   "metadata": {},
   "source": [
    "- after creating a windows virtual machine these resources are automatically added\n",
    "![all services dashboard](images/singlevm_resources.png)"
   ]
  },
  {
   "cell_type": "markdown",
   "metadata": {},
   "source": [
    "### go to windows machine (local pc)\n",
    "- search -> Remote Desktop Connection \n",
    "- paste : public ip address of virtual machine -> connect \n",
    "- username,pass\n",
    "- `stop` after testing \n",
    "- when we delete virtual network ,other resources created automatically will not be deleted ,so we have to delete it manually\n",
    "___"
   ]
  },
  {
   "cell_type": "markdown",
   "metadata": {},
   "source": [
    "#### linux virtual machine deployment"
   ]
  },
  {
   "cell_type": "markdown",
   "metadata": {},
   "source": [
    "- free searvices(search) -> create linux vm\n",
    "  - Subscription:\n",
    "  - Resource group : \n",
    "  - vm name :\n",
    "  - region\n",
    "  - image:\n",
    "  - size:\n",
    "  - Authentication :<input type=\"radio\" > ssh <input type=\"radio\" > Password\n",
    "       - <b>ssh key using</b>\n",
    "       - username:\n",
    "       - ssh public key source :generate new key pair | use existing key stored\n",
    "       - key pair name:\n",
    "       - public inbound ports : allow selected ports\n",
    "       - select inbound ports :ssh(22)\n",
    "  - ``Next:Tags>``\n",
    "  - name:linuxvm \n",
    "  - ``Review+create``\n",
    "- ``Download private key and create resource``\n",
    "\n",
    "\n",
    "\n"
   ]
  },
  {
   "cell_type": "markdown",
   "metadata": {},
   "source": [
    "### in local machine\n",
    "- we need an ssh client\n",
    "- download putty.exe,puttygen.exe\n",
    "- puttygen.exe-> load -> .pem file ->open -> save private key ->as .ppk\n",
    "- putty.exe -> username@public ip (azureUser@23.97.53.224)\n",
    "- give a name to session\n",
    "- SSH ->Auth \n",
    "   - browse -> .ppk file\n",
    "- Session -> save -> open\n"
   ]
  },
  {
   "cell_type": "markdown",
   "metadata": {},
   "source": []
  }
 ],
 "metadata": {
  "language_info": {
   "name": "python"
  }
 },
 "nbformat": 4,
 "nbformat_minor": 2
}
