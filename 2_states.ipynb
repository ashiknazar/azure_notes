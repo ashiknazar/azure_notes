{
 "cells": [
  {
   "cell_type": "markdown",
   "metadata": {},
   "source": [
    "### states"
   ]
  },
  {
   "cell_type": "markdown",
   "metadata": {},
   "source": [
    "- temporary storage disk(dont store valuable data ,may loose)\n",
    "- data storage disc "
   ]
  },
  {
   "cell_type": "markdown",
   "metadata": {},
   "source": [
    "- if we start or stop vm at operating system level ,the assigned ip wont change and data wont loss\n",
    "- if we use azure portal to start and stop , vm get deallocated from azures physical server ,and allocated ip address changes,temporarly stored data will be loss\n"
   ]
  },
  {
   "cell_type": "markdown",
   "metadata": {},
   "source": [
    "___\n",
    "- when stoped under azure portal ip changes\n",
    "- connect -> RDP -> download new rdp file \n",
    "- connect with downloaded file ->  username,pass,\n",
    "___\n"
   ]
  },
  {
   "cell_type": "markdown",
   "metadata": {},
   "source": []
  }
 ],
 "metadata": {
  "language_info": {
   "name": "python"
  }
 },
 "nbformat": 4,
 "nbformat_minor": 2
}
